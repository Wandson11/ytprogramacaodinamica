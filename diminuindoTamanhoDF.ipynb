{
  "nbformat": 4,
  "nbformat_minor": 0,
  "metadata": {
    "colab": {
      "provenance": []
    },
    "kernelspec": {
      "name": "python3",
      "display_name": "Python 3"
    },
    "language_info": {
      "name": "python"
    }
  },
  "cells": [
    {
      "cell_type": "code",
      "execution_count": 1,
      "metadata": {
        "id": "OprsF_EEC4F1"
      },
      "outputs": [],
      "source": [
        "import pandas as pd"
      ]
    },
    {
      "cell_type": "code",
      "source": [
        "dados = pd.read_csv('/content/drive/MyDrive/MICRODADOS_ENEM_2018.csv', sep=';', encoding='latin-1')"
      ],
      "metadata": {
        "id": "8bcDzoAbEwrF"
      },
      "execution_count": 3,
      "outputs": []
    },
    {
      "cell_type": "code",
      "source": [
        "dados.info(memory_usage='deep')"
      ],
      "metadata": {
        "colab": {
          "base_uri": "https://localhost:8080/"
        },
        "id": "A_NoWa7CEzNP",
        "outputId": "c0e3044e-ed80-45f7-ca6b-0918313d138f"
      },
      "execution_count": 4,
      "outputs": [
        {
          "output_type": "stream",
          "name": "stdout",
          "text": [
            "<class 'pandas.core.frame.DataFrame'>\n",
            "RangeIndex: 5513733 entries, 0 to 5513732\n",
            "Data columns (total 78 columns):\n",
            " #   Column                  Dtype  \n",
            "---  ------                  -----  \n",
            " 0   NU_INSCRICAO            int64  \n",
            " 1   NU_ANO                  int64  \n",
            " 2   TP_FAIXA_ETARIA         int64  \n",
            " 3   TP_SEXO                 object \n",
            " 4   TP_ESTADO_CIVIL         float64\n",
            " 5   TP_COR_RACA             int64  \n",
            " 6   TP_NACIONALIDADE        int64  \n",
            " 7   TP_ST_CONCLUSAO         int64  \n",
            " 8   TP_ANO_CONCLUIU         int64  \n",
            " 9   TP_ESCOLA               int64  \n",
            " 10  TP_ENSINO               float64\n",
            " 11  IN_TREINEIRO            int64  \n",
            " 12  CO_MUNICIPIO_ESC        float64\n",
            " 13  NO_MUNICIPIO_ESC        object \n",
            " 14  CO_UF_ESC               float64\n",
            " 15  SG_UF_ESC               object \n",
            " 16  TP_DEPENDENCIA_ADM_ESC  float64\n",
            " 17  TP_LOCALIZACAO_ESC      float64\n",
            " 18  TP_SIT_FUNC_ESC         float64\n",
            " 19  CO_MUNICIPIO_PROVA      int64  \n",
            " 20  NO_MUNICIPIO_PROVA      object \n",
            " 21  CO_UF_PROVA             int64  \n",
            " 22  SG_UF_PROVA             object \n",
            " 23  TP_PRESENCA_CN          float64\n",
            " 24  TP_PRESENCA_CH          float64\n",
            " 25  TP_PRESENCA_LC          float64\n",
            " 26  TP_PRESENCA_MT          float64\n",
            " 27  CO_PROVA_CN             float64\n",
            " 28  CO_PROVA_CH             float64\n",
            " 29  CO_PROVA_LC             float64\n",
            " 30  CO_PROVA_MT             float64\n",
            " 31  NU_NOTA_CN              float64\n",
            " 32  NU_NOTA_CH              float64\n",
            " 33  NU_NOTA_LC              float64\n",
            " 34  NU_NOTA_MT              float64\n",
            " 35  TX_RESPOSTAS_CN         object \n",
            " 36  TX_RESPOSTAS_CH         object \n",
            " 37  TX_RESPOSTAS_LC         object \n",
            " 38  TX_RESPOSTAS_MT         object \n",
            " 39  TP_LINGUA               int64  \n",
            " 40  TX_GABARITO_CN          object \n",
            " 41  TX_GABARITO_CH          object \n",
            " 42  TX_GABARITO_LC          object \n",
            " 43  TX_GABARITO_MT          object \n",
            " 44  TP_STATUS_REDACAO       float64\n",
            " 45  NU_NOTA_COMP1           float64\n",
            " 46  NU_NOTA_COMP2           float64\n",
            " 47  NU_NOTA_COMP3           float64\n",
            " 48  NU_NOTA_COMP4           float64\n",
            " 49  NU_NOTA_COMP5           float64\n",
            " 50  NU_NOTA_REDACAO         float64\n",
            " 51  Q001                    object \n",
            " 52  Q002                    object \n",
            " 53  Q003                    object \n",
            " 54  Q004                    object \n",
            " 55  Q005                    int64  \n",
            " 56  Q006                    object \n",
            " 57  Q007                    object \n",
            " 58  Q008                    object \n",
            " 59  Q009                    object \n",
            " 60  Q010                    object \n",
            " 61  Q011                    object \n",
            " 62  Q012                    object \n",
            " 63  Q013                    object \n",
            " 64  Q014                    object \n",
            " 65  Q015                    object \n",
            " 66  Q016                    object \n",
            " 67  Q017                    object \n",
            " 68  Q018                    object \n",
            " 69  Q019                    object \n",
            " 70  Q020                    object \n",
            " 71  Q021                    object \n",
            " 72  Q022                    object \n",
            " 73  Q023                    object \n",
            " 74  Q024                    object \n",
            " 75  Q025                    object \n",
            " 76  Q026                    object \n",
            " 77  Q027                    object \n",
            "dtypes: float64(26), int64(13), object(39)\n",
            "memory usage: 14.2 GB\n"
          ]
        }
      ]
    },
    {
      "cell_type": "code",
      "source": [
        "#o memory usage ficou gigante: memory usage: 14.2 GB"
      ],
      "metadata": {
        "id": "sWBzYfmPFpKy"
      },
      "execution_count": 5,
      "outputs": []
    },
    {
      "cell_type": "code",
      "source": [
        "#existem duas soluçoes: limitar o numéro d elinhas pelo \"nrows\", mas no caso, os df são estará completo\n",
        "#ou consultar o dicionário e carregar apenas as colunas que serão usadas.\n",
        "#fiz abaixo"
      ],
      "metadata": {
        "id": "GrXc6N3XF0gd"
      },
      "execution_count": 6,
      "outputs": []
    },
    {
      "cell_type": "code",
      "source": [
        "#primeiro é criada uma variável para receber apenas os nomes das colunas a serem usadas\n",
        "colunas = ['NU_INSCRICAO', 'CO_MUNICIPIO_ESC', 'SG_UF_ESC', 'NO_MUNICIPIO_ESC']"
      ],
      "metadata": {
        "id": "xrd3jP6uGFV8"
      },
      "execution_count": 7,
      "outputs": []
    },
    {
      "cell_type": "code",
      "source": [
        "#uma vez separada as colunas, as mesmas serão carregadas unto com o pd.read, por meio do \"usecols=variavel', \n",
        "dados1= pd.read_csv('/content/drive/MyDrive/MICRODADOS_ENEM_2018.csv', sep=';', encoding='latin-1', usecols=colunas)"
      ],
      "metadata": {
        "id": "h0c-cBSJGrng"
      },
      "execution_count": 8,
      "outputs": []
    },
    {
      "cell_type": "code",
      "source": [
        "dados1.info(memory_usage='deep')"
      ],
      "metadata": {
        "colab": {
          "base_uri": "https://localhost:8080/"
        },
        "id": "ATG4qtUIHCgK",
        "outputId": "bbe2c836-5639-4965-8bb5-953fe43cb811"
      },
      "execution_count": 9,
      "outputs": [
        {
          "output_type": "stream",
          "name": "stdout",
          "text": [
            "<class 'pandas.core.frame.DataFrame'>\n",
            "RangeIndex: 5513733 entries, 0 to 5513732\n",
            "Data columns (total 4 columns):\n",
            " #   Column            Dtype  \n",
            "---  ------            -----  \n",
            " 0   NU_INSCRICAO      int64  \n",
            " 1   CO_MUNICIPIO_ESC  float64\n",
            " 2   NO_MUNICIPIO_ESC  object \n",
            " 3   SG_UF_ESC         object \n",
            "dtypes: float64(1), int64(1), object(2)\n",
            "memory usage: 520.4 MB\n"
          ]
        }
      ]
    },
    {
      "cell_type": "code",
      "source": [
        "#importado os dados e usando o memory_usage, nota=se uma diferença expressiva: memory usage: 520.4 MB"
      ],
      "metadata": {
        "id": "4o_udVouHSg5"
      },
      "execution_count": 10,
      "outputs": []
    },
    {
      "cell_type": "code",
      "source": [],
      "metadata": {
        "id": "9JtqUROuHaDs"
      },
      "execution_count": null,
      "outputs": []
    }
  ]
}